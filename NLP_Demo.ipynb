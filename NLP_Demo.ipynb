{
  "nbformat": 4,
  "nbformat_minor": 0,
  "metadata": {
    "colab": {
      "name": "NLP_Demo.ipynb",
      "provenance": [],
      "collapsed_sections": [],
      "authorship_tag": "ABX9TyM91oniWYOhWW14tTiraEK4",
      "include_colab_link": true
    },
    "kernelspec": {
      "name": "python3",
      "display_name": "Python 3"
    }
  },
  "cells": [
    {
      "cell_type": "markdown",
      "metadata": {
        "id": "view-in-github",
        "colab_type": "text"
      },
      "source": [
        "<a href=\"https://colab.research.google.com/github/Rajayogi/rajayogi/blob/master/NLP_Demo.ipynb\" target=\"_parent\"><img src=\"https://colab.research.google.com/assets/colab-badge.svg\" alt=\"Open In Colab\"/></a>"
      ]
    },
    {
      "cell_type": "code",
      "metadata": {
        "id": "NahvBhJF4pzE",
        "colab_type": "code",
        "outputId": "7c50c3c6-831c-4947-d618-5c81a431c13e",
        "colab": {
          "base_uri": "https://localhost:8080/",
          "height": 50
        }
      },
      "source": [
        "! pip install nltk\n"
      ],
      "execution_count": 2,
      "outputs": [
        {
          "output_type": "stream",
          "text": [
            "Requirement already satisfied: nltk in /usr/local/lib/python3.6/dist-packages (3.2.5)\n",
            "Requirement already satisfied: six in /usr/local/lib/python3.6/dist-packages (from nltk) (1.12.0)\n"
          ],
          "name": "stdout"
        }
      ]
    },
    {
      "cell_type": "markdown",
      "metadata": {
        "id": "SZg0EZnE-WvB",
        "colab_type": "text"
      },
      "source": [
        ""
      ]
    },
    {
      "cell_type": "code",
      "metadata": {
        "id": "QPLiyTKR94Ss",
        "colab_type": "code",
        "outputId": "84dfbef3-9165-487c-861d-b1b5e1e62c7b",
        "colab": {
          "base_uri": "https://localhost:8080/",
          "height": 185
        }
      },
      "source": [
        "import nltk\n",
        "nltk.download('punkt')\n",
        "nltk.download('wordnet')\n",
        "nltk.download('stopwords')\n",
        "nltk.download('averaged_perceptron_tagger')"
      ],
      "execution_count": 4,
      "outputs": [
        {
          "output_type": "stream",
          "text": [
            "[nltk_data] Downloading package punkt to /root/nltk_data...\n",
            "[nltk_data]   Unzipping tokenizers/punkt.zip.\n",
            "[nltk_data] Downloading package wordnet to /root/nltk_data...\n",
            "[nltk_data]   Unzipping corpora/wordnet.zip.\n",
            "[nltk_data] Downloading package stopwords to /root/nltk_data...\n",
            "[nltk_data]   Unzipping corpora/stopwords.zip.\n",
            "[nltk_data] Downloading package averaged_perceptron_tagger to\n",
            "[nltk_data]     /root/nltk_data...\n",
            "[nltk_data]   Unzipping taggers/averaged_perceptron_tagger.zip.\n"
          ],
          "name": "stdout"
        },
        {
          "output_type": "execute_result",
          "data": {
            "text/plain": [
              "True"
            ]
          },
          "metadata": {
            "tags": []
          },
          "execution_count": 4
        }
      ]
    },
    {
      "cell_type": "markdown",
      "metadata": {
        "id": "3F2Be6dF-2T7",
        "colab_type": "text"
      },
      "source": [
        "**1. Sentence Tokenization**\n",
        "\n",
        "Sentence tokenization (also called sentence segmentation) is the problem of dividing a string of written language into its component sentences."
      ]
    },
    {
      "cell_type": "code",
      "metadata": {
        "id": "gwJTMUVD8FRf",
        "colab_type": "code",
        "outputId": "aa13ee23-1c41-42d0-8ef6-0ef696926229",
        "colab": {
          "base_uri": "https://localhost:8080/",
          "height": 118
        }
      },
      "source": [
        "text = \"Natural language processing (NLP) is the ability of a computer program to understand human language as it is spoken. NLP is a component of artificial intelligence. NLP has many uses cases and has many applications.\"\n",
        "sentences = nltk.sent_tokenize(text)\n",
        "for sentence in sentences:\n",
        "    print(sentence)\n",
        "    print()"
      ],
      "execution_count": 0,
      "outputs": [
        {
          "output_type": "stream",
          "text": [
            "Natural language processing (NLP) is the ability of a computer program to understand human language as it is spoken.\n",
            "\n",
            "NLP is a component of artificial intelligence.\n",
            "\n",
            "NLP has many uses cases and has many applications.\n",
            "\n"
          ],
          "name": "stdout"
        }
      ]
    },
    {
      "cell_type": "markdown",
      "metadata": {
        "id": "s9UUrEXn-Q1B",
        "colab_type": "text"
      },
      "source": [
        "2. **Word Tokenization**\n",
        "\n",
        "Word tokenization (also called word segmentation) is the problem of dividing a string of written language into its component words."
      ]
    },
    {
      "cell_type": "code",
      "metadata": {
        "id": "xTbKIUmC--6n",
        "colab_type": "code",
        "outputId": "0cb10432-7016-4624-a324-95c493babeaa",
        "colab": {
          "base_uri": "https://localhost:8080/",
          "height": 138
        }
      },
      "source": [
        "for sentence in sentences:\n",
        "    words = nltk.word_tokenize(sentence)\n",
        "    print(words)\n",
        "    print()"
      ],
      "execution_count": 0,
      "outputs": [
        {
          "output_type": "stream",
          "text": [
            "['Natural', 'language', 'processing', '(', 'NLP', ')', 'is', 'the', 'ability', 'of', 'a', 'computer', 'program', 'to', 'understand', 'human', 'language', 'as', 'it', 'is', 'spoken', '.']\n",
            "\n",
            "['NLP', 'is', 'a', 'component', 'of', 'artificial', 'intelligence', '.']\n",
            "\n",
            "['NLP', 'has', 'many', 'uses', 'cases', 'and', 'has', 'many', 'applications', '.']\n",
            "\n"
          ],
          "name": "stdout"
        }
      ]
    },
    {
      "cell_type": "markdown",
      "metadata": {
        "id": "EYtkpLewDAVU",
        "colab_type": "text"
      },
      "source": [
        "**Using nltk for counting word and phrase frequency**"
      ]
    },
    {
      "cell_type": "code",
      "metadata": {
        "id": "ZXgsC2oVCLvM",
        "colab_type": "code",
        "outputId": "78021260-f79f-4bb1-dd44-2f1e1be1f84c",
        "colab": {
          "base_uri": "https://localhost:8080/",
          "height": 54
        }
      },
      "source": [
        "word_tokens = nltk.word_tokenize(text)\n",
        "print(word_tokens)\n",
        "from nltk import ngrams, FreqDist\n",
        "all_counts = dict()\n",
        "for size in 1,2, 3, 4, 5:\n",
        "    all_counts[size] = FreqDist(ngrams(words, size))"
      ],
      "execution_count": 0,
      "outputs": [
        {
          "output_type": "stream",
          "text": [
            "['Natural', 'language', 'processing', '(', 'NLP', ')', 'is', 'the', 'ability', 'of', 'a', 'computer', 'program', 'to', 'understand', 'human', 'language', 'as', 'it', 'is', 'spoken', '.', 'NLP', 'is', 'a', 'component', 'of', 'artificial', 'intelligence', '.', 'NLP', 'has', 'many', 'uses', 'cases', 'and', 'has', 'many', 'applications', '.']\n"
          ],
          "name": "stdout"
        }
      ]
    },
    {
      "cell_type": "markdown",
      "metadata": {
        "id": "jpB-FOJxDoKd",
        "colab_type": "text"
      },
      "source": [
        "**n-grams**, which is a set of co-occurring or continuous sequence of n items from a sequence of large text or sentence. The item here could be words, letters, and syllables. 1-gram is also called as unigrams are the unique words present in the sentence. Bigram(2-gram) is the combination of 2 words. Trigram(3-gram) is 3 words and so on."
      ]
    },
    {
      "cell_type": "code",
      "metadata": {
        "id": "B10O2hcfDM4a",
        "colab_type": "code",
        "outputId": "056528a6-b5ff-4a7f-8f8c-69dad22a48f2",
        "colab": {
          "base_uri": "https://localhost:8080/",
          "height": 504
        }
      },
      "source": [
        "all_counts"
      ],
      "execution_count": 0,
      "outputs": [
        {
          "output_type": "execute_result",
          "data": {
            "text/plain": [
              "{2: FreqDist({('NLP', 'has'): 1,\n",
              "           ('and', 'has'): 1,\n",
              "           ('applications', '.'): 1,\n",
              "           ('cases', 'and'): 1,\n",
              "           ('has', 'many'): 2,\n",
              "           ('many', 'applications'): 1,\n",
              "           ('many', 'uses'): 1,\n",
              "           ('uses', 'cases'): 1}),\n",
              " 3: FreqDist({('NLP', 'has', 'many'): 1,\n",
              "           ('and', 'has', 'many'): 1,\n",
              "           ('cases', 'and', 'has'): 1,\n",
              "           ('has', 'many', 'applications'): 1,\n",
              "           ('has', 'many', 'uses'): 1,\n",
              "           ('many', 'applications', '.'): 1,\n",
              "           ('many', 'uses', 'cases'): 1,\n",
              "           ('uses', 'cases', 'and'): 1}),\n",
              " 4: FreqDist({('NLP', 'has', 'many', 'uses'): 1,\n",
              "           ('and', 'has', 'many', 'applications'): 1,\n",
              "           ('cases', 'and', 'has', 'many'): 1,\n",
              "           ('has', 'many', 'applications', '.'): 1,\n",
              "           ('has', 'many', 'uses', 'cases'): 1,\n",
              "           ('many', 'uses', 'cases', 'and'): 1,\n",
              "           ('uses', 'cases', 'and', 'has'): 1}),\n",
              " 5: FreqDist({('NLP', 'has', 'many', 'uses', 'cases'): 1,\n",
              "           ('and', 'has', 'many', 'applications', '.'): 1,\n",
              "           ('cases', 'and', 'has', 'many', 'applications'): 1,\n",
              "           ('has', 'many', 'uses', 'cases', 'and'): 1,\n",
              "           ('many', 'uses', 'cases', 'and', 'has'): 1,\n",
              "           ('uses', 'cases', 'and', 'has', 'many'): 1})}"
            ]
          },
          "metadata": {
            "tags": []
          },
          "execution_count": 99
        }
      ]
    },
    {
      "cell_type": "code",
      "metadata": {
        "id": "lwCjX-8HCtNm",
        "colab_type": "code",
        "outputId": "9483abac-08bc-48bf-cb9e-b78013c0ee60",
        "colab": {
          "base_uri": "https://localhost:8080/",
          "height": 151
        }
      },
      "source": [
        "all_counts[2]"
      ],
      "execution_count": 0,
      "outputs": [
        {
          "output_type": "execute_result",
          "data": {
            "text/plain": [
              "FreqDist({('NLP', 'has'): 1,\n",
              "          ('and', 'has'): 1,\n",
              "          ('applications', '.'): 1,\n",
              "          ('cases', 'and'): 1,\n",
              "          ('has', 'many'): 2,\n",
              "          ('many', 'applications'): 1,\n",
              "          ('many', 'uses'): 1,\n",
              "          ('uses', 'cases'): 1})"
            ]
          },
          "metadata": {
            "tags": []
          },
          "execution_count": 100
        }
      ]
    },
    {
      "cell_type": "code",
      "metadata": {
        "id": "QDXqUlFCCj-c",
        "colab_type": "code",
        "outputId": "3b49878e-99f2-4c61-af03-d3b99dde7984",
        "colab": {
          "base_uri": "https://localhost:8080/",
          "height": 101
        }
      },
      "source": [
        "all_counts[2].most_common(5)"
      ],
      "execution_count": 0,
      "outputs": [
        {
          "output_type": "execute_result",
          "data": {
            "text/plain": [
              "[(('has', 'many'), 2),\n",
              " (('NLP', 'has'), 1),\n",
              " (('many', 'uses'), 1),\n",
              " (('uses', 'cases'), 1),\n",
              " (('cases', 'and'), 1)]"
            ]
          },
          "metadata": {
            "tags": []
          },
          "execution_count": 40
        }
      ]
    },
    {
      "cell_type": "code",
      "metadata": {
        "id": "WT7KaiEKCmfu",
        "colab_type": "code",
        "outputId": "56c3bd14-68a1-4d82-95b7-d08f6454da57",
        "colab": {
          "base_uri": "https://localhost:8080/",
          "height": 151
        }
      },
      "source": [
        "all_counts[3]"
      ],
      "execution_count": 0,
      "outputs": [
        {
          "output_type": "execute_result",
          "data": {
            "text/plain": [
              "FreqDist({('NLP', 'has', 'many'): 1,\n",
              "          ('and', 'has', 'many'): 1,\n",
              "          ('cases', 'and', 'has'): 1,\n",
              "          ('has', 'many', 'applications'): 1,\n",
              "          ('has', 'many', 'uses'): 1,\n",
              "          ('many', 'applications', '.'): 1,\n",
              "          ('many', 'uses', 'cases'): 1,\n",
              "          ('uses', 'cases', 'and'): 1})"
            ]
          },
          "metadata": {
            "tags": []
          },
          "execution_count": 37
        }
      ]
    },
    {
      "cell_type": "code",
      "metadata": {
        "id": "TuaXpdPVCy7q",
        "colab_type": "code",
        "outputId": "61ac4598-6310-4577-ae50-9807b1e3967b",
        "colab": {
          "base_uri": "https://localhost:8080/",
          "height": 101
        }
      },
      "source": [
        "all_counts[3].most_common(5)"
      ],
      "execution_count": 0,
      "outputs": [
        {
          "output_type": "execute_result",
          "data": {
            "text/plain": [
              "[(('NLP', 'has', 'many'), 1),\n",
              " (('has', 'many', 'uses'), 1),\n",
              " (('many', 'uses', 'cases'), 1),\n",
              " (('uses', 'cases', 'and'), 1),\n",
              " (('cases', 'and', 'has'), 1)]"
            ]
          },
          "metadata": {
            "tags": []
          },
          "execution_count": 41
        }
      ]
    },
    {
      "cell_type": "code",
      "metadata": {
        "id": "Ged8Ue5wQPJ2",
        "colab_type": "code",
        "outputId": "0b7d575b-3725-47e6-cb98-e64d7b8434f3",
        "colab": {
          "base_uri": "https://localhost:8080/",
          "height": 151
        }
      },
      "source": [
        "all_counts[1]"
      ],
      "execution_count": 0,
      "outputs": [
        {
          "output_type": "execute_result",
          "data": {
            "text/plain": [
              "FreqDist({('.',): 1,\n",
              "          ('NLP',): 1,\n",
              "          ('and',): 1,\n",
              "          ('applications',): 1,\n",
              "          ('cases',): 1,\n",
              "          ('has',): 2,\n",
              "          ('many',): 2,\n",
              "          ('uses',): 1})"
            ]
          },
          "metadata": {
            "tags": []
          },
          "execution_count": 102
        }
      ]
    },
    {
      "cell_type": "code",
      "metadata": {
        "id": "Db8_wEXodi32",
        "colab_type": "code",
        "outputId": "b97a2088-243b-4368-bc57-de175f399e2f",
        "colab": {
          "base_uri": "https://localhost:8080/",
          "height": 314
        }
      },
      "source": [
        "all_counts[1].plot(5, cumulative=False) # plots 5 most common tokens"
      ],
      "execution_count": 0,
      "outputs": [
        {
          "output_type": "display_data",
          "data": {
            "image/png": "[encoded data removed]",
            "text/plain": [
              "<Figure size 432x288 with 1 Axes>"
            ]
          },
          "metadata": {
            "tags": []
          }
        }
      ]
    },
    {
      "cell_type": "markdown",
      "metadata": {
        "id": "yZsqUZLvHMQb",
        "colab_type": "text"
      },
      "source": [
        "**Text Lemmatization and Stemming**\n",
        "\n",
        "For grammatical reasons, documents can contain different forms of a word such as drive, drives, driving. Also, sometimes we have related words with a similar meaning, such as nation, national, nationality.\n",
        "The goal of both stemming and lemmatization is to reduce inflectional forms and sometimes derivationally related forms of a word to a common base form.\n",
        "\n",
        "Lemmatization usually refers to doing things properly with the use of a vocabulary and morphological analysis of words, normally aiming to remove inflectional endings only and to return the base or dictionary form of a word, which is known as the lemma.\n",
        "\n",
        "Stemming is the process of producing morphological variants of a root/base word"
      ]
    },
    {
      "cell_type": "code",
      "metadata": {
        "id": "tgjGq027HJXB",
        "colab_type": "code",
        "outputId": "2c14aa99-baa6-46cd-cc8d-b6feb5607873",
        "colab": {
          "base_uri": "https://localhost:8080/",
          "height": 286
        }
      },
      "source": [
        "from nltk.stem import PorterStemmer, WordNetLemmatizer\n",
        "from nltk.corpus import wordnet\n",
        "\n",
        "lemmatizer = WordNetLemmatizer()\n",
        "print(\"Lemmatizer:\", lemmatizer.lemmatize(\"seen\", wordnet.VERB))\n",
        "print(\"Lemmatizer:\", lemmatizer.lemmatize(\"am\", wordnet.VERB))\n",
        "print(\"Lemmatizer:\", lemmatizer.lemmatize(\"are\", wordnet.VERB))\n",
        "stemmer = PorterStemmer()\n",
        "print(\"Stemmer:\", stemmer.stem(\"seen\"))\n",
        "print(\"Stemmer:\", stemmer.stem(\"playing\"))\n",
        "\n",
        "print(stemmer.stem('stones'))\n",
        "\n",
        "print(stemmer.stem('bedroom'))\n",
        "\n",
        "print(stemmer.stem('jokes'))\n",
        "\n",
        "print(stemmer.stem('lisa'))\n",
        "\n",
        "print(stemmer.stem('purple'))\n",
        "\n",
        "print('----------------------')\n",
        "\n",
        "print(lemmatizer.lemmatize('stones'))\n",
        "\n",
        "\n",
        "print(lemmatizer.lemmatize('bedroom'))\n",
        "\n",
        "print(lemmatizer.lemmatize('jokes'))\n",
        "\n",
        "print(lemmatizer.lemmatize('lisa'))\n",
        "\n",
        "print(lemmatizer.lemmatize('purple'))"
      ],
      "execution_count": 5,
      "outputs": [
        {
          "output_type": "stream",
          "text": [
            "Lemmatizer: see\n",
            "Lemmatizer: be\n",
            "Lemmatizer: be\n",
            "Stemmer: seen\n",
            "Stemmer: play\n",
            "stone\n",
            "bedroom\n",
            "joke\n",
            "lisa\n",
            "purpl\n",
            "----------------------\n",
            "stone\n",
            "bedroom\n",
            "joke\n",
            "lisa\n",
            "purple\n"
          ],
          "name": "stdout"
        }
      ]
    },
    {
      "cell_type": "markdown",
      "metadata": {
        "id": "fVdWAfhrEszM",
        "colab_type": "text"
      },
      "source": [
        "Stemming works on words without knowing its context and that’s why stemming has lower accuracy and faster than lemmatization.\n",
        "\n",
        "Lemmatizing is better than stemming. Word lemmatizing returns a real word even if it’s not the same word, it could be a synonym, but at least it’s a real word.\n",
        "\n",
        "Sometimes you don’t care about this level of accuracy and all you need is speed, in this case, stemming is better."
      ]
    },
    {
      "cell_type": "markdown",
      "metadata": {
        "id": "3oTix4JBLBaJ",
        "colab_type": "text"
      },
      "source": [
        "**Stop words**\n",
        "\n",
        "Stop words are words which are filtered out before or after processing of text. When applying machine learning to text, these words can add a lot of noise. That’s why we want to remove these irrelevant words.\n",
        "\n",
        "Stop words usually refer to the most common words such as “and”, “the”, “a” in a language, but there is no single universal list of stopwords. The list of the stop words can change depending on your application."
      ]
    },
    {
      "cell_type": "code",
      "metadata": {
        "id": "t1qp6173LHrp",
        "colab_type": "code",
        "outputId": "7f008350-e4ff-49ef-eb38-603d19147341",
        "colab": {
          "base_uri": "https://localhost:8080/",
          "height": 54
        }
      },
      "source": [
        "from nltk.corpus import stopwords\n",
        "stop_words = set(stopwords.words('english')) \n",
        "print(stop_words)"
      ],
      "execution_count": 0,
      "outputs": [
        {
          "output_type": "stream",
          "text": [
            "{\"mustn't\", \"should've\", 'this', 'only', 'such', 'or', 'she', 'that', 'the', 'why', 'it', \"it's\", 'ain', 'y', 'at', 'needn', 'out', 'd', 'he', 'o', 'has', 've', 'over', 'and', \"isn't\", 'against', 'there', 'its', 'themselves', 'me', 'how', \"won't\", 'until', 'on', 'both', 'just', 'm', 'hadn', 'what', \"you're\", \"you've\", 'my', \"don't\", 'theirs', \"you'd\", 'isn', 'into', 'their', 'each', 'am', 'down', 'hasn', 'above', 'having', 'during', 'again', 'wouldn', 'herself', 'should', 'own', 's', \"haven't\", 'doesn', 'shan', \"that'll\", 'were', 'more', 'weren', 'ourselves', \"mightn't\", \"you'll\", 'as', 'of', 'if', 'most', 'when', 'aren', \"she's\", 'yours', 'ours', 'through', 'few', 'you', 'while', 'off', \"hasn't\", 'about', 'yourself', 'will', 'a', \"needn't\", 'didn', \"wouldn't\", 'did', 'these', 'once', 'are', 'very', 'too', 'can', \"wasn't\", 'our', \"doesn't\", 'being', 'i', 're', 'won', 'haven', 'an', 'who', 'some', 'under', 'after', 'other', \"didn't\", 'by', 'up', 'was', 'they', 'now', 'so', 'with', 't', 'been', 'but', 'from', 'all', \"hadn't\", 'below', 'himself', 'couldn', 'whom', 'no', 'shouldn', \"shan't\", \"couldn't\", 'wasn', 'is', 'mightn', 'his', 'nor', 'll', 'had', \"aren't\", 'hers', 'those', 'than', 'itself', 'for', 'further', 'we', 'then', 'him', 'which', 'in', 'here', 'yourselves', 'myself', 'any', 'does', \"shouldn't\", 'have', 'not', 'them', 'before', 'ma', 'your', 'her', \"weren't\", 'because', 'where', 'be', 'between', 'to', 'don', 'doing', 'do', 'same', 'mustn'}\n"
          ],
          "name": "stdout"
        }
      ]
    },
    {
      "cell_type": "code",
      "metadata": {
        "id": "RbndeQQALUlg",
        "colab_type": "code",
        "outputId": "8e38d7af-c84f-44c5-f696-93058eee079c",
        "colab": {
          "base_uri": "https://localhost:8080/",
          "height": 50
        }
      },
      "source": [
        "filtered_sentence = [w for w in words if not w in stop_words] \n",
        "print(words) \n",
        "print(filtered_sentence)"
      ],
      "execution_count": 0,
      "outputs": [
        {
          "output_type": "stream",
          "text": [
            "['NLP', 'has', 'many', 'uses', 'cases', 'and', 'has', 'many', 'applications', '.']\n",
            "['NLP', 'many', 'uses', 'cases', 'many', 'applications', '.']\n"
          ],
          "name": "stdout"
        }
      ]
    },
    {
      "cell_type": "markdown",
      "metadata": {
        "id": "3ds5LtnkUnmt",
        "colab_type": "text"
      },
      "source": [
        "**Part of Speech Tagging**\n",
        "\n",
        "\n",
        "In corpus linguistics, part-of-speech tagging (POS tagging or PoS tagging or POST), also called grammatical tagging or word-category disambiguation."
      ]
    },
    {
      "cell_type": "code",
      "metadata": {
        "id": "IQdMHsRzTnTG",
        "colab_type": "code",
        "outputId": "fa798a52-08e0-4f2f-a05b-64af3899f467",
        "colab": {
          "base_uri": "https://localhost:8080/",
          "height": 34
        }
      },
      "source": [
        "tagged = nltk.pos_tag(filtered_sentence)   \n",
        "print(tagged)"
      ],
      "execution_count": 0,
      "outputs": [
        {
          "output_type": "stream",
          "text": [
            "[('NLP', 'NNP'), ('many', 'JJ'), ('uses', 'NNS'), ('cases', 'NNS'), ('many', 'JJ'), ('applications', 'NNS'), ('.', '.')]\n"
          ],
          "name": "stdout"
        }
      ]
    },
    {
      "cell_type": "markdown",
      "metadata": {
        "id": "td9F1YNKU7Lr",
        "colab_type": "text"
      },
      "source": [
        "list of the tags for above tagging\n",
        "\n",
        "NNP proper noun, singular ‘Harrison’\n",
        "\n",
        "JJ adjective ‘big’\n",
        "\n",
        "NNS noun plural ‘desks’"
      ]
    },
    {
      "cell_type": "code",
      "metadata": {
        "id": "DWd_kprZbtPP",
        "colab_type": "code",
        "colab": {}
      },
      "source": [
        ""
      ],
      "execution_count": 0,
      "outputs": []
    },
    {
      "cell_type": "markdown",
      "metadata": {
        "id": "j5IGIBc5ND0x",
        "colab_type": "text"
      },
      "source": [
        "**Bag-of-words**\n",
        "\n",
        "Machine learning algorithms cannot work with raw text directly, we need to convert the text into vectors of numbers. This is called feature extraction.\n",
        "The bag-of-words model is a popular and simple feature extraction technique used when we work with text. It describes the occurrence of each word within a document.\n",
        "\n",
        "To use this model, we need to:\n",
        "\n",
        "Design a vocabulary of known words (also called tokens)\n",
        "\n",
        "Choose a measure of the presence of known words\n",
        "\n",
        "Any information about the order or structure of words is discarded. That’s why it’s called a bag of words. This model is trying to understand whether a known word occurs in a document, but don’t know where is that word in the document."
      ]
    }
  ]
}