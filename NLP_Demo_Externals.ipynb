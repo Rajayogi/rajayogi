{
  "nbformat": 4,
  "nbformat_minor": 0,
  "metadata": {
    "colab": {
      "name": "NLP_Demo.ipynb",
      "provenance": [],
      "collapsed_sections": [],
      "authorship_tag": "ABX9TyMyaKS+/ce4ELN5fp/OeAZF",
      "include_colab_link": true
    },
    "kernelspec": {
      "name": "python3",
      "display_name": "Python 3"
    }
  },
  "cells": [
    {
      "cell_type": "markdown",
      "metadata": {
        "id": "view-in-github",
        "colab_type": "text"
      },
      "source": [
        "<a href=\"https://colab.research.google.com/github/Rajayogi/rajayogi/blob/master/NLP_Demo_Externals.ipynb\" target=\"_parent\"><img src=\"https://colab.research.google.com/assets/colab-badge.svg\" alt=\"Open In Colab\"/></a>"
      ]
    },
    {
      "cell_type": "code",
      "metadata": {
        "id": "NahvBhJF4pzE",
        "colab_type": "code",
        "colab": {
          "base_uri": "https://localhost:8080/",
          "height": 50
        },
        "outputId": "f8f9aab5-02c6-47db-df3e-d63cf55e3cf8"
      },
      "source": [
        "! pip install nltk\n"
      ],
      "execution_count": null,
      "outputs": [
        {
          "output_type": "stream",
          "text": [
            "Requirement already satisfied: nltk in /usr/local/lib/python3.6/dist-packages (3.2.5)\n",
            "Requirement already satisfied: six in /usr/local/lib/python3.6/dist-packages (from nltk) (1.12.0)\n"
          ],
          "name": "stdout"
        }
      ]
    },
    {
      "cell_type": "markdown",
      "metadata": {
        "id": "SZg0EZnE-WvB",
        "colab_type": "text"
      },
      "source": [
        "The punkt module is a pre-trained model that helps you tokenize words and sentences. For instance, this model knows that a name may contain a period (like “Dr.APJ Abdul Kalam”) and the presence of this period in a sentence does not necessarily end it.\n",
        "\n",
        "WordNet alongside the NLTK module is used to find the meanings of words, synonyms, antonyms, and more.\n",
        "\n",
        "averaged_perceptron_tagger is used for tagging words with their parts of speech (POS)"
      ]
    },
    {
      "cell_type": "code",
      "metadata": {
        "id": "QPLiyTKR94Ss",
        "colab_type": "code",
        "colab": {
          "base_uri": "https://localhost:8080/",
          "height": 269
        },
        "outputId": "471f4063-004c-4ea7-83a5-3cfef52ff5e3"
      },
      "source": [
        "import nltk\n",
        "nltk.download('punkt')\n",
        "nltk.download('wordnet')\n",
        "nltk.download('stopwords')\n",
        "nltk.download('averaged_perceptron_tagger')\n",
        "nltk.download('maxent_ne_chunker')\n",
        "nltk.download('words')"
      ],
      "execution_count": null,
      "outputs": [
        {
          "output_type": "stream",
          "text": [
            "[nltk_data] Downloading package punkt to /root/nltk_data...\n",
            "[nltk_data]   Unzipping tokenizers/punkt.zip.\n",
            "[nltk_data] Downloading package wordnet to /root/nltk_data...\n",
            "[nltk_data]   Unzipping corpora/wordnet.zip.\n",
            "[nltk_data] Downloading package stopwords to /root/nltk_data...\n",
            "[nltk_data]   Unzipping corpora/stopwords.zip.\n",
            "[nltk_data] Downloading package averaged_perceptron_tagger to\n",
            "[nltk_data]     /root/nltk_data...\n",
            "[nltk_data]   Unzipping taggers/averaged_perceptron_tagger.zip.\n",
            "[nltk_data] Downloading package maxent_ne_chunker to\n",
            "[nltk_data]     /root/nltk_data...\n",
            "[nltk_data]   Unzipping chunkers/maxent_ne_chunker.zip.\n",
            "[nltk_data] Downloading package words to /root/nltk_data...\n",
            "[nltk_data]   Unzipping corpora/words.zip.\n"
          ],
          "name": "stdout"
        },
        {
          "output_type": "execute_result",
          "data": {
            "text/plain": [
              "True"
            ]
          },
          "metadata": {
            "tags": []
          },
          "execution_count": 3
        }
      ]
    },
    {
      "cell_type": "markdown",
      "metadata": {
        "id": "3F2Be6dF-2T7",
        "colab_type": "text"
      },
      "source": [
        "**1. Sentence Tokenization**\n",
        "\n",
        "Sentence tokenization (also called sentence segmentation) is the problem of dividing a string of written language into its component sentences."
      ]
    },
    {
      "cell_type": "code",
      "metadata": {
        "id": "gwJTMUVD8FRf",
        "colab_type": "code",
        "colab": {
          "base_uri": "https://localhost:8080/",
          "height": 118
        },
        "outputId": "4e222e64-6e80-4827-efc3-5fb9bd2a054e"
      },
      "source": [
        "text = \"Natural language processing (NLP) is the ability of a computer program to understand human language as it is spoken. NLP is a component of artificial intelligence. NLP has many uses cases and has many applications.\"\n",
        "sentences = nltk.sent_tokenize(text)\n",
        "for sentence in sentences:\n",
        "    print(sentence)\n",
        "    print()"
      ],
      "execution_count": null,
      "outputs": [
        {
          "output_type": "stream",
          "text": [
            "Natural language processing (NLP) is the ability of a computer program to understand human language as it is spoken.\n",
            "\n",
            "NLP is a component of artificial intelligence.\n",
            "\n",
            "NLP has many uses cases and has many applications.\n",
            "\n"
          ],
          "name": "stdout"
        }
      ]
    },
    {
      "cell_type": "markdown",
      "metadata": {
        "id": "s9UUrEXn-Q1B",
        "colab_type": "text"
      },
      "source": [
        "2. **Word Tokenization**\n",
        "\n",
        "Word tokenization (also called word segmentation) is the problem of dividing a string of written language into its component words."
      ]
    },
    {
      "cell_type": "code",
      "metadata": {
        "id": "xTbKIUmC--6n",
        "colab_type": "code",
        "colab": {
          "base_uri": "https://localhost:8080/",
          "height": 138
        },
        "outputId": "b005b269-a0e6-4ab2-d8a3-676781f35ef1"
      },
      "source": [
        "for sentence in sentences:\n",
        "    words = nltk.word_tokenize(sentence)\n",
        "    print(words)\n",
        "    print()"
      ],
      "execution_count": null,
      "outputs": [
        {
          "output_type": "stream",
          "text": [
            "['Natural', 'language', 'processing', '(', 'NLP', ')', 'is', 'the', 'ability', 'of', 'a', 'computer', 'program', 'to', 'understand', 'human', 'language', 'as', 'it', 'is', 'spoken', '.']\n",
            "\n",
            "['NLP', 'is', 'a', 'component', 'of', 'artificial', 'intelligence', '.']\n",
            "\n",
            "['NLP', 'has', 'many', 'uses', 'cases', 'and', 'has', 'many', 'applications', '.']\n",
            "\n"
          ],
          "name": "stdout"
        }
      ]
    },
    {
      "cell_type": "markdown",
      "metadata": {
        "id": "EYtkpLewDAVU",
        "colab_type": "text"
      },
      "source": [
        "**Using nltk for counting word and phrase frequency**"
      ]
    },
    {
      "cell_type": "code",
      "metadata": {
        "id": "ZXgsC2oVCLvM",
        "colab_type": "code",
        "colab": {
          "base_uri": "https://localhost:8080/",
          "height": 54
        },
        "outputId": "2d55bb0e-b30a-4f9b-c1bd-475a1d95c0fa"
      },
      "source": [
        "word_tokens = nltk.word_tokenize(text)\n",
        "print(word_tokens)\n",
        "from nltk import ngrams, FreqDist\n",
        "all_counts = dict()\n",
        "for size in 1,2, 3, 4, 5:\n",
        "    all_counts[size] = FreqDist(ngrams(words, size))"
      ],
      "execution_count": null,
      "outputs": [
        {
          "output_type": "stream",
          "text": [
            "['Natural', 'language', 'processing', '(', 'NLP', ')', 'is', 'the', 'ability', 'of', 'a', 'computer', 'program', 'to', 'understand', 'human', 'language', 'as', 'it', 'is', 'spoken', '.', 'NLP', 'is', 'a', 'component', 'of', 'artificial', 'intelligence', '.', 'NLP', 'has', 'many', 'uses', 'cases', 'and', 'has', 'many', 'applications', '.']\n"
          ],
          "name": "stdout"
        }
      ]
    },
    {
      "cell_type": "markdown",
      "metadata": {
        "id": "jpB-FOJxDoKd",
        "colab_type": "text"
      },
      "source": [
        "**n-grams**, which is a set of co-occurring or continuous sequence of n items from a sequence of large text or sentence. The item here could be words, letters, and syllables. 1-gram is also called as unigrams are the unique words present in the sentence. Bigram(2-gram) is the combination of 2 words. Trigram(3-gram) is 3 words and so on."
      ]
    },
    {
      "cell_type": "code",
      "metadata": {
        "id": "B10O2hcfDM4a",
        "colab_type": "code",
        "colab": {
          "base_uri": "https://localhost:8080/",
          "height": 638
        },
        "outputId": "2a1ce303-ca67-4569-b563-8c3e97a8dc6c"
      },
      "source": [
        "all_counts"
      ],
      "execution_count": null,
      "outputs": [
        {
          "output_type": "execute_result",
          "data": {
            "text/plain": [
              "{1: FreqDist({('.',): 1,\n",
              "           ('NLP',): 1,\n",
              "           ('and',): 1,\n",
              "           ('applications',): 1,\n",
              "           ('cases',): 1,\n",
              "           ('has',): 2,\n",
              "           ('many',): 2,\n",
              "           ('uses',): 1}),\n",
              " 2: FreqDist({('NLP', 'has'): 1,\n",
              "           ('and', 'has'): 1,\n",
              "           ('applications', '.'): 1,\n",
              "           ('cases', 'and'): 1,\n",
              "           ('has', 'many'): 2,\n",
              "           ('many', 'applications'): 1,\n",
              "           ('many', 'uses'): 1,\n",
              "           ('uses', 'cases'): 1}),\n",
              " 3: FreqDist({('NLP', 'has', 'many'): 1,\n",
              "           ('and', 'has', 'many'): 1,\n",
              "           ('cases', 'and', 'has'): 1,\n",
              "           ('has', 'many', 'applications'): 1,\n",
              "           ('has', 'many', 'uses'): 1,\n",
              "           ('many', 'applications', '.'): 1,\n",
              "           ('many', 'uses', 'cases'): 1,\n",
              "           ('uses', 'cases', 'and'): 1}),\n",
              " 4: FreqDist({('NLP', 'has', 'many', 'uses'): 1,\n",
              "           ('and', 'has', 'many', 'applications'): 1,\n",
              "           ('cases', 'and', 'has', 'many'): 1,\n",
              "           ('has', 'many', 'applications', '.'): 1,\n",
              "           ('has', 'many', 'uses', 'cases'): 1,\n",
              "           ('many', 'uses', 'cases', 'and'): 1,\n",
              "           ('uses', 'cases', 'and', 'has'): 1}),\n",
              " 5: FreqDist({('NLP', 'has', 'many', 'uses', 'cases'): 1,\n",
              "           ('and', 'has', 'many', 'applications', '.'): 1,\n",
              "           ('cases', 'and', 'has', 'many', 'applications'): 1,\n",
              "           ('has', 'many', 'uses', 'cases', 'and'): 1,\n",
              "           ('many', 'uses', 'cases', 'and', 'has'): 1,\n",
              "           ('uses', 'cases', 'and', 'has', 'many'): 1})}"
            ]
          },
          "metadata": {
            "tags": []
          },
          "execution_count": 16
        }
      ]
    },
    {
      "cell_type": "code",
      "metadata": {
        "id": "lwCjX-8HCtNm",
        "colab_type": "code",
        "colab": {
          "base_uri": "https://localhost:8080/",
          "height": 151
        },
        "outputId": "1280750c-6e25-4bf6-c019-babd988eea27"
      },
      "source": [
        "all_counts[2]"
      ],
      "execution_count": null,
      "outputs": [
        {
          "output_type": "execute_result",
          "data": {
            "text/plain": [
              "FreqDist({('NLP', 'has'): 1,\n",
              "          ('and', 'has'): 1,\n",
              "          ('applications', '.'): 1,\n",
              "          ('cases', 'and'): 1,\n",
              "          ('has', 'many'): 2,\n",
              "          ('many', 'applications'): 1,\n",
              "          ('many', 'uses'): 1,\n",
              "          ('uses', 'cases'): 1})"
            ]
          },
          "metadata": {
            "tags": []
          },
          "execution_count": 17
        }
      ]
    },
    {
      "cell_type": "code",
      "metadata": {
        "id": "QDXqUlFCCj-c",
        "colab_type": "code",
        "colab": {
          "base_uri": "https://localhost:8080/",
          "height": 101
        },
        "outputId": "cddd1a04-cc70-4081-aa9c-efc7b4ddb831"
      },
      "source": [
        "all_counts[2].most_common(5)"
      ],
      "execution_count": null,
      "outputs": [
        {
          "output_type": "execute_result",
          "data": {
            "text/plain": [
              "[(('has', 'many'), 2),\n",
              " (('NLP', 'has'), 1),\n",
              " (('many', 'uses'), 1),\n",
              " (('uses', 'cases'), 1),\n",
              " (('cases', 'and'), 1)]"
            ]
          },
          "metadata": {
            "tags": []
          },
          "execution_count": 18
        }
      ]
    },
    {
      "cell_type": "code",
      "metadata": {
        "id": "WT7KaiEKCmfu",
        "colab_type": "code",
        "colab": {
          "base_uri": "https://localhost:8080/",
          "height": 151
        },
        "outputId": "6ea66b4f-2869-4bc0-bd0f-9bf73ef1f7a9"
      },
      "source": [
        "all_counts[3]"
      ],
      "execution_count": null,
      "outputs": [
        {
          "output_type": "execute_result",
          "data": {
            "text/plain": [
              "FreqDist({('NLP', 'has', 'many'): 1,\n",
              "          ('and', 'has', 'many'): 1,\n",
              "          ('cases', 'and', 'has'): 1,\n",
              "          ('has', 'many', 'applications'): 1,\n",
              "          ('has', 'many', 'uses'): 1,\n",
              "          ('many', 'applications', '.'): 1,\n",
              "          ('many', 'uses', 'cases'): 1,\n",
              "          ('uses', 'cases', 'and'): 1})"
            ]
          },
          "metadata": {
            "tags": []
          },
          "execution_count": 19
        }
      ]
    },
    {
      "cell_type": "code",
      "metadata": {
        "id": "TuaXpdPVCy7q",
        "colab_type": "code",
        "colab": {
          "base_uri": "https://localhost:8080/",
          "height": 101
        },
        "outputId": "52a4dd33-f2fd-4175-b1ad-958850b1c1e3"
      },
      "source": [
        "all_counts[3].most_common(5)"
      ],
      "execution_count": null,
      "outputs": [
        {
          "output_type": "execute_result",
          "data": {
            "text/plain": [
              "[(('NLP', 'has', 'many'), 1),\n",
              " (('has', 'many', 'uses'), 1),\n",
              " (('many', 'uses', 'cases'), 1),\n",
              " (('uses', 'cases', 'and'), 1),\n",
              " (('cases', 'and', 'has'), 1)]"
            ]
          },
          "metadata": {
            "tags": []
          },
          "execution_count": 20
        }
      ]
    },
    {
      "cell_type": "code",
      "metadata": {
        "id": "Ged8Ue5wQPJ2",
        "colab_type": "code",
        "colab": {
          "base_uri": "https://localhost:8080/",
          "height": 151
        },
        "outputId": "d72d98e0-270a-4361-eeb8-a8c493c51fee"
      },
      "source": [
        "all_counts[1]"
      ],
      "execution_count": null,
      "outputs": [
        {
          "output_type": "execute_result",
          "data": {
            "text/plain": [
              "FreqDist({('.',): 1,\n",
              "          ('NLP',): 1,\n",
              "          ('and',): 1,\n",
              "          ('applications',): 1,\n",
              "          ('cases',): 1,\n",
              "          ('has',): 2,\n",
              "          ('many',): 2,\n",
              "          ('uses',): 1})"
            ]
          },
          "metadata": {
            "tags": []
          },
          "execution_count": 21
        }
      ]
    },
    {
      "cell_type": "code",
      "metadata": {
        "id": "Db8_wEXodi32",
        "colab_type": "code",
        "colab": {
          "base_uri": "https://localhost:8080/",
          "height": 314
        },
        "outputId": "ca0d7d46-0c50-4759-b551-862fdb1c6702"
      },
      "source": [
        "all_counts[1].plot(5, cumulative=False) # plots 5 most common tokens"
      ],
      "execution_count": null,
      "outputs": [
        {
          "output_type": "display_data",
          "data": {
            "image/png": "[encoded data removed]",
            "text/plain": [
              "<Figure size 432x288 with 1 Axes>"
            ]
          },
          "metadata": {
            "tags": []
          }
        }
      ]
    },
    {
      "cell_type": "markdown",
      "metadata": {
        "id": "yZsqUZLvHMQb",
        "colab_type": "text"
      },
      "source": [
        "** Normalization**\n",
        " \n",
        " Normalization in NLP is the process of converting a word to its canonical form.\n",
        "\n",
        "Normalization helps group together words with the same meaning but different forms. Without normalization, “ran”, “runs”, and “running” would be treated as different words, even though you may want them to be treated as the same word. Lets explore stemming and lemmatization, which are two popular techniques of normalization.\n",
        "\n",
        "\n",
        "**Text Lemmatization and Stemming**\n",
        "\n",
        "For grammatical reasons, documents can contain different forms of a word such as drive, drives, driving. Also, sometimes we have related words with a similar meaning, such as nation, national, nationality.\n",
        "The goal of both stemming and lemmatization is to reduce inflectional forms and sometimes derivationally related forms of a word to a common base form.\n",
        "\n",
        "Lemmatization usually refers to doing things properly with the use of a vocabulary and morphological analysis of words, normally aiming to remove inflectional endings only and to return the base or dictionary form of a word, which is known as the lemma.!![alt text](https://miro.medium.com/max/1564/1*Kt9AbfaCIHCG2QjBckRVLg.png)\n",
        "\n",
        "Stemming is the process of producing morphological variants of a root/base word\n",
        "![alt text](https://miro.medium.com/max/341/0*TIYLCwlI6rundRHb)\n",
        "\n",
        "Here, we have words waited, waiting and waits. Here the root word is ‘wait’. There are two methods in Stemming namely, Porter Stemming (removes common morphological and inflectional endings from words) and Lancaster Stemming (a more aggressive stemming algorithm)"
      ]
    },
    {
      "cell_type": "code",
      "metadata": {
        "id": "tgjGq027HJXB",
        "colab_type": "code",
        "colab": {
          "base_uri": "https://localhost:8080/",
          "height": 168
        },
        "outputId": "5c8e25c8-0cf3-48f9-d8bd-12c73e072d2c"
      },
      "source": [
        "from nltk.stem import PorterStemmer, WordNetLemmatizer\n",
        "from nltk.corpus import wordnet\n",
        "\n",
        "lemmatizer = WordNetLemmatizer()\n",
        "print(\"Lemmatizer:\", lemmatizer.lemmatize(\"seen\", wordnet.VERB))\n",
        "print(\"Lemmatizer:\", lemmatizer.lemmatize(\"am\", wordnet.VERB))\n",
        "print(\"Lemmatizer:\", lemmatizer.lemmatize(\"are\", wordnet.VERB))\n",
        "stemmer = PorterStemmer()\n",
        "print(\"Stemmer:\", stemmer.stem(\"seen\"))\n",
        "print(\"Stemmer:\", stemmer.stem(\"playing\"))\n",
        "print(\"Stemmer:\", stemmer.stem(\"are\"))\n",
        "\n",
        "print('----------------------')\n",
        "print(lemmatizer.lemmatize('studying',wordnet.VERB))\n",
        "print(stemmer.stem('studying'))\n"
      ],
      "execution_count": null,
      "outputs": [
        {
          "output_type": "stream",
          "text": [
            "Lemmatizer: see\n",
            "Lemmatizer: be\n",
            "Lemmatizer: be\n",
            "Stemmer: seen\n",
            "Stemmer: play\n",
            "Stemmer: are\n",
            "----------------------\n",
            "study\n",
            "studi\n"
          ],
          "name": "stdout"
        }
      ]
    },
    {
      "cell_type": "code",
      "metadata": {
        "id": "WlwCTmDamJGp",
        "colab_type": "code",
        "colab": {}
      },
      "source": [
        ""
      ],
      "execution_count": null,
      "outputs": []
    },
    {
      "cell_type": "markdown",
      "metadata": {
        "id": "fVdWAfhrEszM",
        "colab_type": "text"
      },
      "source": [
        "Stemming works on words without knowing its context and that’s why stemming has lower accuracy and faster than lemmatization.\n",
        "\n",
        "Lemmatizing is better than stemming. Word lemmatizing returns a real word even if it’s not the same word, it could be a synonym, but at least it’s a real word.\n",
        "\n",
        "Sometimes you don’t care about this level of accuracy and all you need is speed, in this case, stemming is better."
      ]
    },
    {
      "cell_type": "markdown",
      "metadata": {
        "id": "3oTix4JBLBaJ",
        "colab_type": "text"
      },
      "source": [
        "**Stop words**\n",
        "\n",
        "Stop words are words which are filtered out before or after processing of text. When applying machine learning to text, these words can add a lot of noise. That’s why we want to remove these irrelevant words.\n",
        "\n",
        "Stop words usually refer to the most common words such as “and”, “the”, “a” in a language, but there is no single universal list of stopwords. The list of the stop words can change depending on your application."
      ]
    },
    {
      "cell_type": "code",
      "metadata": {
        "id": "t1qp6173LHrp",
        "colab_type": "code",
        "colab": {
          "base_uri": "https://localhost:8080/",
          "height": 54
        },
        "outputId": "33bc914c-c90d-4b6f-d56e-573afb5f851c"
      },
      "source": [
        "from nltk.corpus import stopwords\n",
        "stop_words = set(stopwords.words('english')) \n",
        "print(stop_words)"
      ],
      "execution_count": null,
      "outputs": [
        {
          "output_type": "stream",
          "text": [
            "{'haven', 'down', \"shouldn't\", 'them', 'himself', 'or', 'mustn', 'hasn', 'myself', 'a', 's', 'been', 'all', 'so', 'further', 'while', 'through', \"couldn't\", 'my', 'its', 'which', \"wouldn't\", 'too', 'few', 'being', 'when', \"you've\", 'yourself', 'own', 'now', 'nor', 'has', 'm', 'isn', 'itself', 'just', 'this', 'other', 'both', \"it's\", 'in', 'no', 'ours', 'not', 'him', \"mightn't\", 'will', 'above', 'over', 'most', 'y', 'hers', 'between', 'aren', 'me', 'doesn', 'her', 'to', 'couldn', 'those', \"needn't\", 'who', \"you'll\", 'should', \"shan't\", 'weren', 'is', 'had', 'any', 'our', 'some', 'do', 'won', 'he', 'and', 'under', 'll', 'once', 'herself', 'more', 'but', 'if', 'be', 'hadn', 'on', 'doing', 'ma', 'their', 'how', \"didn't\", 'same', 'as', 'themselves', 'needn', 'then', 'i', \"mustn't\", 'we', 'yourselves', 'such', 'shouldn', 'you', 'was', \"won't\", 'wasn', 'before', 'why', 'for', \"hasn't\", 'into', \"you're\", 'that', 'out', 'there', 'than', \"isn't\", \"haven't\", \"hadn't\", 'these', 'the', 'until', \"you'd\", \"aren't\", 'only', 'wouldn', 'at', 'have', 'each', 'shan', 'of', \"weren't\", 're', 'are', 'his', 'she', 'an', \"don't\", 'don', 'whom', 'mightn', 'with', 'can', 'd', \"should've\", 'were', 'by', 'against', 'below', 'what', 'didn', 'does', 'yours', 'again', 'about', 'during', \"she's\", 'they', 'having', 'off', 'where', 't', 'theirs', 'ourselves', 'o', \"doesn't\", 'very', 'it', \"that'll\", 've', \"wasn't\", 'did', 'here', 'because', 'after', 'up', 'from', 'your', 'ain', 'am'}\n"
          ],
          "name": "stdout"
        }
      ]
    },
    {
      "cell_type": "code",
      "metadata": {
        "id": "RbndeQQALUlg",
        "colab_type": "code",
        "colab": {
          "base_uri": "https://localhost:8080/",
          "height": 67
        },
        "outputId": "6fb7ce41-4e57-41a7-a439-ab8ae59985a5"
      },
      "source": [
        "example = \"Albert Einstein was born in Ulm, Germany in 1879.\"\n",
        "words = nltk.word_tokenize(example)\n",
        "print(words)\n",
        "filtered_sentence = [w for w in words if not w in stop_words] \n",
        "print(words) \n",
        "filtered_sentence.append(\"Bengaluru\")\n",
        "print(filtered_sentence)"
      ],
      "execution_count": null,
      "outputs": [
        {
          "output_type": "stream",
          "text": [
            "['Albert', 'Einstein', 'was', 'born', 'in', 'Ulm', ',', 'Germany', 'in', '1879', '.']\n",
            "['Albert', 'Einstein', 'was', 'born', 'in', 'Ulm', ',', 'Germany', 'in', '1879', '.']\n",
            "['Albert', 'Einstein', 'born', 'Ulm', ',', 'Germany', '1879', '.', 'Bengaluru']\n"
          ],
          "name": "stdout"
        }
      ]
    },
    {
      "cell_type": "markdown",
      "metadata": {
        "id": "3ds5LtnkUnmt",
        "colab_type": "text"
      },
      "source": [
        "**Part of Speech Tagging**\n",
        "\n",
        "\n",
        "In corpus linguistics, part-of-speech tagging (POS tagging or PoS tagging or POST), also called grammatical tagging or word-category disambiguation."
      ]
    },
    {
      "cell_type": "code",
      "metadata": {
        "id": "IQdMHsRzTnTG",
        "colab_type": "code",
        "colab": {
          "base_uri": "https://localhost:8080/",
          "height": 34
        },
        "outputId": "07b68d99-53a9-4344-ba29-c74dc3de18be"
      },
      "source": [
        "tagged = nltk.pos_tag(filtered_sentence)   \n",
        "print(tagged)"
      ],
      "execution_count": null,
      "outputs": [
        {
          "output_type": "stream",
          "text": [
            "[('Albert', 'NNP'), ('Einstein', 'NNP'), ('born', 'VBD'), ('Ulm', 'NNP'), (',', ','), ('Germany', 'NNP'), ('1879', 'CD'), ('.', '.'), ('Bengaluru', 'VB')]\n"
          ],
          "name": "stdout"
        }
      ]
    },
    {
      "cell_type": "markdown",
      "metadata": {
        "id": "td9F1YNKU7Lr",
        "colab_type": "text"
      },
      "source": [
        "list of the tags for above tagging\n",
        "\n",
        "NNP proper noun, singular ‘Harrison’\n",
        "\n",
        "JJ adjective ‘big’\n",
        "\n",
        "NNS noun plural ‘desks’"
      ]
    },
    {
      "cell_type": "markdown",
      "metadata": {
        "id": "iQZcKwunVyIB",
        "colab_type": "text"
      },
      "source": [
        "**Named entity recognition**\n",
        "\n",
        "It is the process of detecting the named entities such as the person name, the location name, the company name, the quantities and the monetary value.\n",
        "\n",
        "Each POS tag is attached to a single word, while NER tags can be attached to multiple words. So NER is involves not only detecting the type of Named Entity, but also the word boundaries. The tagging mechanism used for NER is called BIO (Begin, In, Out).\n",
        "\n",
        "NER detection is a “higher level” task than POS tagging, and generally uses the POS as an input feature."
      ]
    },
    {
      "cell_type": "code",
      "metadata": {
        "id": "DWd_kprZbtPP",
        "colab_type": "code",
        "colab": {
          "base_uri": "https://localhost:8080/",
          "height": 185
        },
        "outputId": "b761abd1-6fc4-4e69-d906-72354e23b377"
      },
      "source": [
        "from nltk import ne_chunk\n",
        "chunk = ne_chunk(tagged)\n",
        "print(chunk)"
      ],
      "execution_count": null,
      "outputs": [
        {
          "output_type": "stream",
          "text": [
            "(S\n",
            "  (PERSON Albert/NNP)\n",
            "  (PERSON Einstein/NNP)\n",
            "  born/VBD\n",
            "  (PERSON Ulm/NNP)\n",
            "  ,/,\n",
            "  (GPE Germany/NNP)\n",
            "  1879/CD\n",
            "  ./.\n",
            "  Bengaluru/VB)\n"
          ],
          "name": "stdout"
        }
      ]
    },
    {
      "cell_type": "markdown",
      "metadata": {
        "id": "andSaZHrnS_0",
        "colab_type": "text"
      },
      "source": [
        "**Sentiment Analysis**\n",
        "\n",
        "![alt text](https://miro.medium.com/max/875/1*T_wr7iiNs9_OR8V19w0qGw.png)\n",
        "\n",
        "Sentiment Analysis, or Opinion Mining, is a sub-field of Natural Language Processing (NLP) that tries to identify and extract opinions within a given text. The aim of sentiment analysis is to gauge the attitude, sentiments, evaluations, attitudes and emotions of a speaker/writer based on the computational treatment of subjectivity in a text.\n",
        "\n",
        "**VADER Sentiment Analysis**\n",
        "\n",
        "VADER (Valence Aware Dictionary and sEntiment Reasoner) is a lexicon and rule-based sentiment analysis tool that is specifically attuned to sentiments expressed in social media. VADER uses a combination of A sentiment lexicon is a list of lexical features (e.g., words) which are generally labelled according to their semantic orientation as either positive or negative.\n",
        "\n",
        "\n",
        "VADER has been found to be quite successful when dealing with social media texts, NY Times editorials, movie reviews, and product reviews. This is because VADER not only tells about the Positivity and Negativity score but also tells us about how positive or negative a sentiment is.\n",
        "\n",
        "Advantages of using VADER\n",
        "\n",
        "VADER has a lot of advantages over traditional methods of Sentiment Analysis, including:\n",
        "\n",
        "1. It works exceedingly well on social media type text, yet readily generalizes to multiple domains\n",
        "2. It doesn’t require any training data but is constructed from a generalizable, valence-based, human-curated gold standard sentiment lexicon\n",
        "3. It is fast enough to be used online with streaming data, and\n",
        "4. It does not severely suffer from a speed-performance tradeoff."
      ]
    },
    {
      "cell_type": "code",
      "metadata": {
        "id": "EymG2wFaeXOV",
        "colab_type": "code",
        "colab": {
          "base_uri": "https://localhost:8080/",
          "height": 70
        },
        "outputId": "27f8cf48-c3e8-4faf-deef-6ed02cfbee5c"
      },
      "source": [
        "from nltk.sentiment.vader import SentimentIntensityAnalyzer\n",
        "\n",
        "sentences = [\"VADER is smart, handsome, and funny.\", # positive sentence example\n",
        "\"VADER is smart, handsome, and funny!\", # punctuation emphasis handled correctly (sentiment intensity adjusted)\n",
        "\"VADER is very smart, handsome, and funny.\",  # booster words handled correctly (sentiment intensity adjusted)\n",
        "\"VADER is VERY SMART, handsome, and FUNNY.\",  # emphasis for ALLCAPS handled\n",
        "\"VADER is VERY SMART, handsome, and FUNNY!!!\",# combination of signals - VADER appropriately adjusts intensity\n",
        "\"VADER is VERY SMART, really handsome, and INCREDIBLY FUNNY!!!\",# booster words & punctuation make this close to ceiling for score\n",
        "\"The book was good.\",         # positive sentence\n",
        "\"The book was kind of good.\", # qualified positive sentence is handled correctly (intensity adjusted)\n",
        "\"The plot was good, but the characters are uncompelling and the dialog is not great.\", # mixed negation sentence\n",
        "\"A really bad, horrible book.\",       # negative sentence with booster words\n",
        "\"At least it isn't a horrible book.\", # negated negative sentence with contraction\n",
        "\":) and :D\",     # emoticons handled\n",
        "\"\",              # an empty string is correctly handled\n",
        "\"Today sux\",     #  negative slang handled\n",
        "\"Today sux!\",    #  negative slang with punctuation emphasis handled\n",
        "\"Today SUX!\",    #  negative slang with capitalization emphasis\n",
        "\"Today kinda sux! But I'll get by, lol\" # mixed sentiment example with slang and constrastive conjunction \"but\" \n",
        "]"
      ],
      "execution_count": null,
      "outputs": [
        {
          "output_type": "stream",
          "text": [
            "/usr/local/lib/python3.6/dist-packages/nltk/twitter/__init__.py:20: UserWarning: The twython library has not been installed. Some functionality from the twitter package will not be available.\n",
            "  warnings.warn(\"The twython library has not been installed. \"\n"
          ],
          "name": "stderr"
        }
      ]
    },
    {
      "cell_type": "code",
      "metadata": {
        "id": "GwWG5VuHe0oE",
        "colab_type": "code",
        "colab": {
          "base_uri": "https://localhost:8080/",
          "height": 54
        },
        "outputId": "b46e4a07-a170-4b15-b311-b5b1794e61c4"
      },
      "source": [
        "paragraph = \"It was one of the worst movies I've seen, despite good reviews. Unbelievably bad acting!! Poor direction. VERY poor production. The movie was bad. Very bad movie. VERY bad movie. VERY BAD movie. VERY BAD movie!\"\n",
        "\n",
        "from nltk import tokenize\n",
        "lines_list = tokenize.sent_tokenize(paragraph)\n",
        "print(lines_list)\n",
        "sentences.extend(lines_list)"
      ],
      "execution_count": null,
      "outputs": [
        {
          "output_type": "stream",
          "text": [
            "[\"It was one of the worst movies I've seen, despite good reviews.\", 'Unbelievably bad acting!!', 'Poor direction.', 'VERY poor production.', 'The movie was bad.', 'Very bad movie.', 'VERY bad movie.', 'VERY BAD movie.', 'VERY BAD movie!']\n"
          ],
          "name": "stdout"
        }
      ]
    },
    {
      "cell_type": "code",
      "metadata": {
        "id": "bz7xLf7YfNJR",
        "colab_type": "code",
        "colab": {}
      },
      "source": [
        "tricky_sentences = [\n",
        "\"Most automated sentiment analysis tools are shit.\",\n",
        "\"VADER sentiment analysis is the shit.\",\n",
        "\"Sentiment analysis has never been good.\",\n",
        "\"Sentiment analysis with VADER has never been this good.\",\n",
        "\"Warren Beatty has never been so entertaining.\",\n",
        "\"I won't say that the movie is astounding and I wouldn't claim that \\\n",
        "the movie is too banal either.\",\n",
        "\"I like to hate Michael Bay films, but I couldn't fault this one\",\n",
        "\"It's one thing to watch an Uwe Boll film, but another thing entirely \\\n",
        "to pay for it\",\n",
        "\"The movie was too good\",\n",
        "\"This movie was actually neither that funny, nor super witty.\",\n",
        "\"This movie doesn't care about cleverness, wit or any other kind of \\\n",
        "intelligent humor.\",\n",
        "\"Those who find ugly meanings in beautiful things are corrupt without \\\n",
        "being charming.\",\n",
        "\"There are slow and repetitive parts, BUT it has just enough spice to \\\n",
        "keep it interesting.\",\n",
        "\"The script is not fantastic, but the acting is decent and the cinematography \\\n",
        "is EXCELLENT!\",\n",
        "\"Roger Dodger is one of the most compelling variations on this theme.\",\n",
        "\"Roger Dodger is one of the least compelling variations on this theme.\",\n",
        "\"Roger Dodger is at least compelling as a variation on the theme.\",\n",
        "\"they fall in love with the product\",\n",
        "\"but then it breaks\",\n",
        "\"usually around the time the 90 day warranty expires\",\n",
        "\"the twin towers collapsed today\",\n",
        "\"However, Mr. Carter solemnly argues, his client carried out the kidnapping \\\n",
        "under orders and in the ''least offensive way possible.''\"\n",
        "]"
      ],
      "execution_count": null,
      "outputs": []
    },
    {
      "cell_type": "code",
      "metadata": {
        "id": "rreU78bEfQx6",
        "colab_type": "code",
        "colab": {
          "base_uri": "https://localhost:8080/",
          "height": 34
        },
        "outputId": "01e9560c-fb62-494c-d2f0-46f6b03ea04a"
      },
      "source": [
        "sentences.extend(tricky_sentences)\n",
        "nltk.download('vader_lexicon')\n",
        "sid = SentimentIntensityAnalyzer()"
      ],
      "execution_count": null,
      "outputs": [
        {
          "output_type": "stream",
          "text": [
            "[nltk_data] Downloading package vader_lexicon to /root/nltk_data...\n"
          ],
          "name": "stdout"
        }
      ]
    },
    {
      "cell_type": "code",
      "metadata": {
        "id": "oCOn_IZRfciJ",
        "colab_type": "code",
        "colab": {
          "base_uri": "https://localhost:8080/",
          "height": 1000
        },
        "outputId": "3cca74e0-d02a-45d6-a1a9-1aa338898bf4"
      },
      "source": [
        "for sentence in sentences:\n",
        " print(sentence)\n",
        " ss = sid.polarity_scores(sentence)\n",
        " for k in sorted(ss):\n",
        "     print('{0}: {1}, '.format(k, ss[k]), end='')\n",
        " print()"
      ],
      "execution_count": null,
      "outputs": [
        {
          "output_type": "stream",
          "text": [
            "VADER is smart, handsome, and funny.\n",
            "compound: 0.8316, neg: 0.0, neu: 0.254, pos: 0.746, \n",
            "VADER is smart, handsome, and funny!\n",
            "compound: 0.8439, neg: 0.0, neu: 0.248, pos: 0.752, \n",
            "VADER is very smart, handsome, and funny.\n",
            "compound: 0.8545, neg: 0.0, neu: 0.299, pos: 0.701, \n",
            "VADER is VERY SMART, handsome, and FUNNY.\n",
            "compound: 0.9227, neg: 0.0, neu: 0.246, pos: 0.754, \n",
            "VADER is VERY SMART, handsome, and FUNNY!!!\n",
            "compound: 0.9342, neg: 0.0, neu: 0.233, pos: 0.767, \n",
            "VADER is VERY SMART, really handsome, and INCREDIBLY FUNNY!!!\n",
            "compound: 0.9469, neg: 0.0, neu: 0.294, pos: 0.706, \n",
            "The book was good.\n",
            "compound: 0.4404, neg: 0.0, neu: 0.508, pos: 0.492, \n",
            "The book was kind of good.\n",
            "compound: 0.3832, neg: 0.0, neu: 0.657, pos: 0.343, \n",
            "The plot was good, but the characters are uncompelling and the dialog is not great.\n",
            "compound: -0.7042, neg: 0.327, neu: 0.579, pos: 0.094, \n",
            "A really bad, horrible book.\n",
            "compound: -0.8211, neg: 0.791, neu: 0.209, pos: 0.0, \n",
            "At least it isn't a horrible book.\n",
            "compound: 0.431, neg: 0.0, neu: 0.637, pos: 0.363, \n",
            ":) and :D\n",
            "compound: 0.7925, neg: 0.0, neu: 0.124, pos: 0.876, \n",
            "\n",
            "compound: 0.0, neg: 0.0, neu: 0.0, pos: 0.0, \n",
            "Today sux\n",
            "compound: -0.3612, neg: 0.714, neu: 0.286, pos: 0.0, \n",
            "Today sux!\n",
            "compound: -0.4199, neg: 0.736, neu: 0.264, pos: 0.0, \n",
            "Today SUX!\n",
            "compound: -0.5461, neg: 0.779, neu: 0.221, pos: 0.0, \n",
            "Today kinda sux! But I'll get by, lol\n",
            "compound: 0.2228, neg: 0.195, neu: 0.531, pos: 0.274, \n",
            "It was one of the worst movies I've seen, despite good reviews.\n",
            "compound: -0.7584, neg: 0.394, neu: 0.606, pos: 0.0, \n",
            "Unbelievably bad acting!!\n",
            "compound: -0.6572, neg: 0.686, neu: 0.314, pos: 0.0, \n",
            "Poor direction.\n",
            "compound: -0.4767, neg: 0.756, neu: 0.244, pos: 0.0, \n",
            "VERY poor production.\n",
            "compound: -0.6281, neg: 0.674, neu: 0.326, pos: 0.0, \n",
            "The movie was bad.\n",
            "compound: -0.5423, neg: 0.538, neu: 0.462, pos: 0.0, \n",
            "Very bad movie.\n",
            "compound: -0.5849, neg: 0.655, neu: 0.345, pos: 0.0, \n",
            "VERY bad movie.\n",
            "compound: -0.6732, neg: 0.694, neu: 0.306, pos: 0.0, \n",
            "VERY BAD movie.\n",
            "compound: -0.7398, neg: 0.724, neu: 0.276, pos: 0.0, \n",
            "VERY BAD movie!\n",
            "compound: -0.7616, neg: 0.735, neu: 0.265, pos: 0.0, \n",
            "Most automated sentiment analysis tools are shit.\n",
            "compound: -0.5574, neg: 0.375, neu: 0.625, pos: 0.0, \n",
            "VADER sentiment analysis is the shit.\n",
            "compound: 0.6124, neg: 0.0, neu: 0.556, pos: 0.444, \n",
            "Sentiment analysis has never been good.\n",
            "compound: -0.3412, neg: 0.325, neu: 0.675, pos: 0.0, \n",
            "Sentiment analysis with VADER has never been this good.\n",
            "compound: 0.5228, neg: 0.0, neu: 0.703, pos: 0.297, \n",
            "Warren Beatty has never been so entertaining.\n",
            "compound: 0.5777, neg: 0.0, neu: 0.616, pos: 0.384, \n",
            "I won't say that the movie is astounding and I wouldn't claim that the movie is too banal either.\n",
            "compound: 0.4215, neg: 0.0, neu: 0.851, pos: 0.149, \n",
            "I like to hate Michael Bay films, but I couldn't fault this one\n",
            "compound: 0.3153, neg: 0.157, neu: 0.534, pos: 0.309, \n",
            "It's one thing to watch an Uwe Boll film, but another thing entirely to pay for it\n",
            "compound: -0.2541, neg: 0.112, neu: 0.888, pos: 0.0, \n",
            "The movie was too good\n",
            "compound: 0.4404, neg: 0.0, neu: 0.58, pos: 0.42, \n",
            "This movie was actually neither that funny, nor super witty.\n",
            "compound: -0.6759, neg: 0.41, neu: 0.59, pos: 0.0, \n",
            "This movie doesn't care about cleverness, wit or any other kind of intelligent humor.\n",
            "compound: -0.1338, neg: 0.265, neu: 0.497, pos: 0.239, \n",
            "Those who find ugly meanings in beautiful things are corrupt without being charming.\n",
            "compound: -0.3553, neg: 0.314, neu: 0.493, pos: 0.192, \n",
            "There are slow and repetitive parts, BUT it has just enough spice to keep it interesting.\n",
            "compound: 0.4678, neg: 0.079, neu: 0.735, pos: 0.186, \n",
            "The script is not fantastic, but the acting is decent and the cinematography is EXCELLENT!\n",
            "compound: 0.7565, neg: 0.092, neu: 0.607, pos: 0.301, \n",
            "Roger Dodger is one of the most compelling variations on this theme.\n",
            "compound: 0.2944, neg: 0.0, neu: 0.834, pos: 0.166, \n",
            "Roger Dodger is one of the least compelling variations on this theme.\n",
            "compound: -0.1695, neg: 0.132, neu: 0.868, pos: 0.0, \n",
            "Roger Dodger is at least compelling as a variation on the theme.\n",
            "compound: 0.2263, neg: 0.0, neu: 0.84, pos: 0.16, \n",
            "they fall in love with the product\n",
            "compound: 0.6369, neg: 0.0, neu: 0.588, pos: 0.412, \n",
            "but then it breaks\n",
            "compound: 0.0, neg: 0.0, neu: 1.0, pos: 0.0, \n",
            "usually around the time the 90 day warranty expires\n",
            "compound: 0.0, neg: 0.0, neu: 1.0, pos: 0.0, \n",
            "the twin towers collapsed today\n",
            "compound: -0.2732, neg: 0.344, neu: 0.656, pos: 0.0, \n",
            "However, Mr. Carter solemnly argues, his client carried out the kidnapping under orders and in the ''least offensive way possible.''\n",
            "compound: -0.5859, neg: 0.23, neu: 0.697, pos: 0.074, \n"
          ],
          "name": "stdout"
        }
      ]
    },
    {
      "cell_type": "markdown",
      "metadata": {
        "id": "kbY_g_6foltO",
        "colab_type": "text"
      },
      "source": [
        "We will use the polarity_scores() method to obtain the polarity indices for the given sentence.\n",
        "\n",
        "The Compound score is a metric that calculates the sum of all the lexicon ratings which have been normalized between -1(most extreme negative) and +1 (most extreme positive).\n",
        "\n",
        "VADER is smart, handsome, and funny.\n",
        "\n",
        "The Positive, Negative and Neutral scores represent the proportion of text that falls in these categories. This means our sentence was rated as 74.6% Positive, 25.4% Neutral and 0% Negative. Hence all these should add up to 1.\n",
        " \n",
        " VADER analyses sentiments primarily based on certain key points:\n",
        "\n",
        "**Punctuation:** The use of an exclamation mark(!), increases the magnitude of the intensity without modifying the semantic orientation. For example, “VADER is smart, handsome, and funny!” is more intense than “VADER is smart, handsome, and funny.” and an increase in the number of (!), increases the magnitude accordingly.\n",
        "\n",
        "VADER is smart, handsome, and funny.\n",
        "\n",
        "compound: 0.8316, neg: 0.0, neu: 0.254, pos: 0.746, \n",
        "\n",
        "VADER is smart, handsome, and funny!\n",
        "\n",
        "compound: 0.8439, neg: 0.0, neu: 0.248, pos: 0.752,\n",
        "\n",
        "**Capitalization:** Using upper case letters to emphasize a sentiment-relevant word in the presence of other non-capitalized words, increases the magnitude of the sentiment intensity. For example, “VADER is VERY SMART, handsome, and FUNNY” conveys more intensity than “VADER is very smart, handsome, and funny”\n",
        "\n",
        "VADER is very smart, handsome, and funny.\n",
        "\n",
        "compound: 0.8545, neg: 0.0, neu: 0.299, pos: 0.701, \n",
        "\n",
        "VADER is VERY SMART, handsome, and FUNNY.\n",
        "\n",
        "compound: 0.9227, neg: 0.0, neu: 0.246, pos: 0.754,\n",
        "\n",
        "**Degree modifiers:** Also called intensifiers, they impact the sentiment intensity by either increasing or decreasing the intensity. For example, “VADER is very smart, handsome, and funny.” is more intense than “VADER is smart, handsome, and funny”.\n",
        "\n",
        "VADER is smart, handsome, and funny.\n",
        "\n",
        "compound: 0.8316, neg: 0.0, neu: 0.254, pos: 0.746,  \n",
        "\n",
        "VADER is very smart, handsome, and funny.\n",
        "\n",
        "compound: 0.9227, neg: 0.0, neu: 0.246, pos: 0.754.\n",
        "\n",
        "Conclusion\n",
        "\n",
        "The results of VADER analysis are not only remarkable but also very encouraging. The outcomes highlight the tremendous benefits that can be attained by the use of VADER in cases of micro-blogging sites wherein the text data is a complex mix of a variety of text.\n",
        "\n"
      ]
    },
    {
      "cell_type": "code",
      "metadata": {
        "id": "0iTncdb7gHVq",
        "colab_type": "code",
        "colab": {}
      },
      "source": [
        ""
      ],
      "execution_count": null,
      "outputs": []
    }
  ]
}